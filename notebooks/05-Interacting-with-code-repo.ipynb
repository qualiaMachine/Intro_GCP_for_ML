{
 "cells": [
  {
   "cell_type": "markdown",
   "id": "31b8f0e6",
   "metadata": {},
   "source": [
    "---\n",
    "title: \"Using a GitHub Personal Access Token (PAT) to Push/Pull from a Vertex AI Notebook\"\n",
    "teaching: 25\n",
    "exercises: 10\n",
    "---\n",
    "\n",
    ":::::::::::::::::::::::::::::::::::::: questions \n",
    "\n",
    "- How can I securely push/pull code to and from GitHub within a Vertex AI Workbench notebook?  \n",
    "- What steps are necessary to set up a GitHub PAT for authentication in GCP?  \n",
    "- How can I convert notebooks to `.py` files and ignore `.ipynb` files in version control?  \n",
    "\n",
    "::::::::::::::::::::::::::::::::::::::::::::::::\n",
    "\n",
    "::::::::::::::::::::::::::::::::::::: objectives\n",
    "\n",
    "- Configure Git in a Vertex AI Workbench notebook to use a GitHub Personal Access Token (PAT) for HTTPS-based authentication.  \n",
    "- Securely handle credentials in a notebook environment using `getpass`.  \n",
    "- Convert `.ipynb` files to `.py` files for better version control practices in collaborative projects.  \n",
    "\n",
    "::::::::::::::::::::::::::::::::::::::::::::::::\n",
    "\n",
    "## Step 0: Initial setup\n",
    "In the previous episode, we cloned our forked repository as part of the [workshop setup](../setup.html). In this episode, we'll see how to push our code to this fork. Complete these three setup steps before moving forward.\n",
    "\n",
    "1. Clone the fork if you haven't already. See previous episode.  \n",
    "\n",
    "2. Start a new Jupyter notebook, and name it something like `Interacting-with-git.ipynb`. We can use the default Python 3 kernel in Vertex AI Workbench.  \n",
    "\n",
    "3. Change directory to the workspace where your repository is located. In Vertex AI Workbench, notebooks usually live under `/home/jupyter/`."
   ]
  },
  {
   "cell_type": "code",
   "execution_count": null,
   "id": "03d8312c",
   "metadata": {},
   "outputs": [],
   "source": [
    "%cd /home/jupyter/"
   ]
  },
  {
   "cell_type": "markdown",
   "id": "d77fbc3e",
   "metadata": {},
   "source": [
    "## Step 1: Using a GitHub personal access token (PAT) to push/pull from a Vertex AI notebook\n",
    "When working in Vertex AI Workbench notebooks, you may often need to push code updates to GitHub repositories. Since Workbench VMs may be stopped and restarted, configurations like SSH keys may not persist. HTTPS-based authentication with a GitHub Personal Access Token (PAT) is a practical solution. PATs provide flexibility for authentication and enable seamless interaction with both public and private repositories directly from your notebook.  \n",
    "\n",
    "> **Important Note**: Personal access tokens are powerful credentials. Select the minimum necessary permissions and handle the token carefully.\n",
    "\n",
    "#### Generate a personal access token (PAT) on GitHub\n",
    "1. Go to **Settings** in GitHub.  \n",
    "2. Click **Developer settings** at the bottom of the left sidebar.  \n",
    "3. Select **Personal access tokens**, then click **Tokens (classic)**.  \n",
    "4. Click **Generate new token (classic)**.  \n",
    "5. Give your token a descriptive name and set an expiration date if desired.  \n",
    "6. **Select minimum permissions**:  \n",
    "   - Public repos: `public_repo`  \n",
    "   - Private repos: `repo`  \n",
    "7. Click **Generate token** and copy it immediately—you won’t be able to see it again.\n",
    "\n",
    "> **Caution**: Treat your PAT like a password. Don’t share it or expose it in your code. Use a password manager to store it.\n",
    "\n",
    "#### Use `getpass` to prompt for username and PAT"
   ]
  },
  {
   "cell_type": "code",
   "execution_count": null,
   "id": "d7bca9e1",
   "metadata": {},
   "outputs": [],
   "source": [
    "import getpass\n",
    "\n",
    "# Prompt for GitHub username and PAT securely\n",
    "username = input(\"GitHub Username: \")\n",
    "token = getpass.getpass(\"GitHub Personal Access Token (PAT): \")"
   ]
  },
  {
   "cell_type": "markdown",
   "id": "5bab600d",
   "metadata": {},
   "source": [
    "This way credentials aren’t hard-coded into your notebook.\n",
    "\n",
    "## Step 2: Configure Git settings"
   ]
  },
  {
   "cell_type": "code",
   "execution_count": null,
   "id": "ff03e04e",
   "metadata": {},
   "outputs": [],
   "source": [
    "!git config --global user.name \"Your Name\" \n",
    "!git config --global user.email your_email@wisc.edu"
   ]
  },
  {
   "cell_type": "markdown",
   "id": "af87060d",
   "metadata": {},
   "source": [
    "- `user.name`: Will appear in the commit history.  \n",
    "- `user.email`: Must match your GitHub account so commits are linked to your profile.  \n",
    "\n",
    "## Step 3: Convert `.ipynb` notebooks to `.py`\n",
    "\n",
    "Tracking `.py` files instead of `.ipynb` helps with cleaner version control. Notebooks store outputs and metadata, which makes diffs noisy. `.py` files are lighter and easier to review.\n",
    "\n",
    "1. Install Jupytext."
   ]
  },
  {
   "cell_type": "code",
   "execution_count": null,
   "id": "937d2136",
   "metadata": {},
   "outputs": [],
   "source": [
    "!pip install jupytext"
   ]
  },
  {
   "cell_type": "markdown",
   "id": "7442ff09",
   "metadata": {},
   "source": [
    "2. Convert a notebook to `.py`."
   ]
  },
  {
   "cell_type": "code",
   "execution_count": null,
   "id": "539b7179",
   "metadata": {},
   "outputs": [],
   "source": [
    "!jupytext --to py Interacting-with-GCS.ipynb"
   ]
  },
  {
   "cell_type": "markdown",
   "id": "390f901a",
   "metadata": {},
   "source": [
    "3. Convert all notebooks in the current directory."
   ]
  },
  {
   "cell_type": "code",
   "execution_count": null,
   "id": "21f375d5",
   "metadata": {},
   "outputs": [],
   "source": [
    "import subprocess, os\n",
    "\n",
    "for nb in [f for f in os.listdir() if f.endswith('.ipynb')]:\n",
    "    pyfile = nb.replace('.ipynb', '.py')\n",
    "    subprocess.run([\"jupytext\", \"--to\", \"py\", nb, \"--output\", pyfile])\n",
    "    print(f\"Converted {nb} to {pyfile}\")"
   ]
  },
  {
   "cell_type": "markdown",
   "id": "57ae33dc",
   "metadata": {},
   "source": [
    "## Step 4: Add and commit `.py` files"
   ]
  },
  {
   "cell_type": "code",
   "execution_count": null,
   "id": "eb1f5b79",
   "metadata": {},
   "outputs": [],
   "source": [
    "%cd /home/jupyter/your-repo\n",
    "!git status\n",
    "!git add .\n",
    "!git commit -m \"Converted notebooks to .py files for version control\""
   ]
  },
  {
   "cell_type": "markdown",
   "id": "22b5abb4",
   "metadata": {},
   "source": [
    "## Step 5: Add `.ipynb` to `.gitignore`"
   ]
  },
  {
   "cell_type": "code",
   "execution_count": null,
   "id": "463af2a9",
   "metadata": {},
   "outputs": [],
   "source": [
    "!touch .gitignore\n",
    "with open(\".gitignore\", \"a\") as gitignore:\n",
    "    gitignore.write(\"\\n# Ignore Jupyter notebooks\\n*.ipynb\\n\")\n",
    "!cat .gitignore"
   ]
  },
  {
   "cell_type": "markdown",
   "id": "b05a9e02",
   "metadata": {},
   "source": [
    "Add other temporary files too:"
   ]
  },
  {
   "cell_type": "code",
   "execution_count": null,
   "id": "d7e200b0",
   "metadata": {},
   "outputs": [],
   "source": [
    "with open(\".gitignore\", \"a\") as gitignore:\n",
    "    gitignore.write(\"\\n# Ignore cache and temp files\\n__pycache__/\\n*.tmp\\n*.log\\n\")"
   ]
  },
  {
   "cell_type": "markdown",
   "id": "e406f370",
   "metadata": {},
   "source": [
    "Commit the `.gitignore`:"
   ]
  },
  {
   "cell_type": "code",
   "execution_count": null,
   "id": "1bee7385",
   "metadata": {},
   "outputs": [],
   "source": [
    "!git add .gitignore\n",
    "!git commit -m \"Add .ipynb and temp files to .gitignore\""
   ]
  },
  {
   "cell_type": "markdown",
   "id": "e83ccb25",
   "metadata": {},
   "source": [
    "## Step 6: Syncing with GitHub\n",
    "\n",
    "First, pull the latest changes:"
   ]
  },
  {
   "cell_type": "code",
   "execution_count": null,
   "id": "aa4410c2",
   "metadata": {},
   "outputs": [],
   "source": [
    "!git config pull.rebase false\n",
    "!git pull origin main"
   ]
  },
  {
   "cell_type": "markdown",
   "id": "dc17c849",
   "metadata": {},
   "source": [
    "If conflicts occur, resolve manually before committing.\n",
    "\n",
    "Then push with your PAT credentials:"
   ]
  },
  {
   "cell_type": "code",
   "execution_count": null,
   "id": "d58a060b",
   "metadata": {},
   "outputs": [],
   "source": [
    "github_url = f'github.com/{username}/your-repo.git'\n",
    "!git push https://{username}:{token}@{github_url} main"
   ]
  },
  {
   "cell_type": "markdown",
   "id": "16ed169d",
   "metadata": {},
   "source": [
    "## Step 7: Convert `.py` back to notebooks (optional)\n",
    "\n",
    "To convert `.py` files back to `.ipynb` after pulling updates:"
   ]
  },
  {
   "cell_type": "code",
   "execution_count": null,
   "id": "4c43a651",
   "metadata": {},
   "outputs": [],
   "source": [
    "!jupytext --to notebook Interacting-with-GCS.py --output Interacting-with-GCS.ipynb"
   ]
  },
  {
   "cell_type": "markdown",
   "id": "1a30a392",
   "metadata": {},
   "source": [
    ":::::::::::::::::::::::::::::::::::::::: challenge\n",
    "\n",
    "### Challenge: GitHub PAT Workflow\n",
    "\n",
    "- Why might you prefer using a PAT with HTTPS instead of SSH keys in Vertex AI Workbench?  \n",
    "- What are the benefits of converting `.ipynb` files to `.py` before committing to a shared repo?  \n",
    "\n",
    ":::::::::::::::: solution\n",
    "\n",
    "- PATs with HTTPS are easier to set up in temporary environments where SSH configs don’t persist.  \n",
    "- Converting notebooks to `.py` results in cleaner diffs, easier code review, and smaller repos without stored outputs/metadata.  \n",
    "\n",
    ":::::::::::::::::::::::::\n",
    "\n",
    "::::::::::::::::::::::::::::::::::::::::::::::::\n",
    "\n",
    "::::::::::::::::::::::::::::::::::::: keypoints \n",
    "\n",
    "- Use a GitHub PAT for HTTPS-based authentication in Vertex AI Workbench notebooks.  \n",
    "- Securely enter sensitive information in notebooks using `getpass`.  \n",
    "- Converting `.ipynb` files to `.py` files helps with cleaner version control.  \n",
    "- Adding `.ipynb` files to `.gitignore` keeps your repository organized.  \n",
    "\n",
    "::::::::::::::::::::::::::::::::::::::::::::::::"
   ]
  }
 ],
 "metadata": {},
 "nbformat": 4,
 "nbformat_minor": 5
}
