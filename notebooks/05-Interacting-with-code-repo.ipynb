{
 "cells": [
  {
   "cell_type": "markdown",
   "id": "3ad91803",
   "metadata": {},
   "source": [
    "---\n",
    "title: \"Using a GitHub Personal Access Token (PAT) to Push/Pull from a Vertex AI Notebook\"\n",
    "teaching: 25\n",
    "exercises: 10\n",
    "---\n",
    "\n",
    ":::::::::::::::::::::::::::::::::::::: questions \n",
    "\n",
    "- How can I securely push/pull code to and from GitHub within a Vertex AI Workbench notebook?  \n",
    "- What steps are necessary to set up a GitHub PAT for authentication in GCP?  \n",
    "- How can I convert notebooks to `.py` files and ignore `.ipynb` files in version control?  \n",
    "\n",
    "::::::::::::::::::::::::::::::::::::::::::::::::\n",
    "\n",
    "::::::::::::::::::::::::::::::::::::: objectives\n",
    "\n",
    "- Configure Git in a Vertex AI Workbench notebook to use a GitHub Personal Access Token (PAT) for HTTPS-based authentication.  \n",
    "- Securely handle credentials in a notebook environment using `getpass`.  \n",
    "- Convert `.ipynb` files to `.py` files for better version control practices in collaborative projects.  \n",
    "\n",
    "::::::::::::::::::::::::::::::::::::::::::::::::\n",
    "\n",
    "## Step 0: Initial setup\n",
    "In the previous episode, we cloned our forked repository as part of the [workshop setup](../setup.html). In this episode, we'll see how to push our code to this fork. Complete these three setup steps before moving forward.\n",
    "\n",
    "1. Clone the fork if you haven't already. See previous episode.  \n",
    "\n",
    "2. Start a new Jupyter notebook, and name it something like `Interacting-with-git.ipynb`. We can use the default Python 3 kernel in Vertex AI Workbench.  \n",
    "\n",
    "3. Change directory to the workspace where your repository is located. In Vertex AI Workbench, notebooks usually live under `/home/jupyter/`."
   ]
  },
  {
   "cell_type": "code",
   "execution_count": null,
   "id": "aaa4d819",
   "metadata": {},
   "outputs": [],
   "source": [
    "%cd /home/jupyter/"
   ]
  },
  {
   "cell_type": "markdown",
   "id": "a111251d",
   "metadata": {},
   "source": [
    "## Step 1: Using a GitHub personal access token (PAT) to push/pull from a Vertex AI notebook\n",
    "When working in Vertex AI Workbench notebooks, you may often need to push code updates to GitHub repositories. Since Workbench VMs may be stopped and restarted, configurations like SSH keys may not persist. HTTPS-based authentication with a GitHub Personal Access Token (PAT) is a practical solution. PATs provide flexibility for authentication and enable seamless interaction with both public and private repositories directly from your notebook.  \n",
    "\n",
    "> **Important Note**: Personal access tokens are powerful credentials. Select the minimum necessary permissions and handle the token carefully.\n",
    "\n",
    "#### Generate a personal access token (PAT) on GitHub\n",
    "1. Go to **Settings** in GitHub.  \n",
    "2. Click **Developer settings** at the bottom of the left sidebar.  \n",
    "3. Select **Personal access tokens**, then click **Tokens (classic)**.  \n",
    "4. Click **Generate new token (classic)**.  \n",
    "5. Give your token a descriptive name and set an expiration date if desired.  \n",
    "6. **Select minimum permissions**:  \n",
    "   - Public repos: `public_repo`  \n",
    "   - Private repos: `repo`  \n",
    "7. Click **Generate token** and copy it immediately—you won’t be able to see it again.\n",
    "\n",
    "> **Caution**: Treat your PAT like a password. Don’t share it or expose it in your code. Use a password manager to store it.\n",
    "\n",
    "#### Use `getpass` to prompt for username and PAT"
   ]
  },
  {
   "cell_type": "code",
   "execution_count": null,
   "id": "8b63d548",
   "metadata": {},
   "outputs": [],
   "source": [
    "import getpass\n",
    "\n",
    "# Prompt for GitHub username and PAT securely\n",
    "username = input(\"GitHub Username: \")\n",
    "token = getpass.getpass(\"GitHub Personal Access Token (PAT): \")"
   ]
  },
  {
   "cell_type": "markdown",
   "id": "d7bd2119",
   "metadata": {},
   "source": [
    "This way credentials aren’t hard-coded into your notebook.\n",
    "\n",
    "## Step 2: Configure Git settings"
   ]
  },
  {
   "cell_type": "code",
   "execution_count": null,
   "id": "5f49c266",
   "metadata": {},
   "outputs": [],
   "source": [
    "!git config --global user.name \"Your Name\" \n",
    "!git config --global user.email your_email@wisc.edu"
   ]
  },
  {
   "cell_type": "markdown",
   "id": "b08fc713",
   "metadata": {},
   "source": [
    "- `user.name`: Will appear in the commit history.  \n",
    "- `user.email`: Must match your GitHub account so commits are linked to your profile.  \n",
    "\n",
    "## Step 3: Convert `.ipynb` notebooks to `.py`\n",
    "\n",
    "Tracking `.py` files instead of `.ipynb` helps with cleaner version control. Notebooks store outputs and metadata, which makes diffs noisy. `.py` files are lighter and easier to review.\n",
    "\n",
    "1. Install Jupytext."
   ]
  },
  {
   "cell_type": "code",
   "execution_count": null,
   "id": "1186b47a",
   "metadata": {},
   "outputs": [],
   "source": [
    "!pip install jupytext"
   ]
  },
  {
   "cell_type": "markdown",
   "id": "b613e6c8",
   "metadata": {},
   "source": [
    "2. Convert a notebook to `.py`."
   ]
  },
  {
   "cell_type": "code",
   "execution_count": null,
   "id": "58dc13d1",
   "metadata": {},
   "outputs": [],
   "source": [
    "!jupytext --to py Interacting-with-GCS.ipynb"
   ]
  },
  {
   "cell_type": "markdown",
   "id": "e42d7dc9",
   "metadata": {},
   "source": [
    "3. Convert all notebooks in the current directory."
   ]
  },
  {
   "cell_type": "code",
   "execution_count": null,
   "id": "122e7ad1",
   "metadata": {},
   "outputs": [],
   "source": [
    "import subprocess, os\n",
    "\n",
    "for nb in [f for f in os.listdir() if f.endswith('.ipynb')]:\n",
    "    pyfile = nb.replace('.ipynb', '.py')\n",
    "    subprocess.run([\"jupytext\", \"--to\", \"py\", nb, \"--output\", pyfile])\n",
    "    print(f\"Converted {nb} to {pyfile}\")"
   ]
  },
  {
   "cell_type": "markdown",
   "id": "0aa52185",
   "metadata": {},
   "source": [
    "## Step 4: Add and commit `.py` files"
   ]
  },
  {
   "cell_type": "code",
   "execution_count": null,
   "id": "fe633263",
   "metadata": {},
   "outputs": [],
   "source": [
    "%cd /home/jupyter/your-repo\n",
    "!git status\n",
    "!git add .\n",
    "!git commit -m \"Converted notebooks to .py files for version control\""
   ]
  },
  {
   "cell_type": "markdown",
   "id": "f541e836",
   "metadata": {},
   "source": [
    "## Step 5: Add `.ipynb` to `.gitignore`"
   ]
  },
  {
   "cell_type": "code",
   "execution_count": null,
   "id": "484abf4a",
   "metadata": {},
   "outputs": [],
   "source": [
    "!touch .gitignore\n",
    "with open(\".gitignore\", \"a\") as gitignore:\n",
    "    gitignore.write(\"\\n# Ignore Jupyter notebooks\\n*.ipynb\\n\")\n",
    "!cat .gitignore"
   ]
  },
  {
   "cell_type": "markdown",
   "id": "74fa1c53",
   "metadata": {},
   "source": [
    "Add other temporary files too:"
   ]
  },
  {
   "cell_type": "code",
   "execution_count": null,
   "id": "5fa21324",
   "metadata": {},
   "outputs": [],
   "source": [
    "with open(\".gitignore\", \"a\") as gitignore:\n",
    "    gitignore.write(\"\\n# Ignore cache and temp files\\n__pycache__/\\n*.tmp\\n*.log\\n\")"
   ]
  },
  {
   "cell_type": "markdown",
   "id": "6d08ef56",
   "metadata": {},
   "source": [
    "Commit the `.gitignore`:"
   ]
  },
  {
   "cell_type": "code",
   "execution_count": null,
   "id": "23654c09",
   "metadata": {},
   "outputs": [],
   "source": [
    "!git add .gitignore\n",
    "!git commit -m \"Add .ipynb and temp files to .gitignore\""
   ]
  },
  {
   "cell_type": "markdown",
   "id": "e85a8356",
   "metadata": {},
   "source": [
    "## Step 6: Syncing with GitHub\n",
    "\n",
    "First, pull the latest changes:"
   ]
  },
  {
   "cell_type": "code",
   "execution_count": null,
   "id": "f19d8a60",
   "metadata": {},
   "outputs": [],
   "source": [
    "!git config pull.rebase false\n",
    "!git pull origin main"
   ]
  },
  {
   "cell_type": "markdown",
   "id": "c4d6ed91",
   "metadata": {},
   "source": [
    "If conflicts occur, resolve manually before committing.\n",
    "\n",
    "Then push with your PAT credentials:"
   ]
  },
  {
   "cell_type": "code",
   "execution_count": null,
   "id": "7d86c02f",
   "metadata": {},
   "outputs": [],
   "source": [
    "github_url = f'github.com/{username}/your-repo.git'\n",
    "!git push https://{username}:{token}@{github_url} main"
   ]
  },
  {
   "cell_type": "markdown",
   "id": "0fc2c6b1",
   "metadata": {},
   "source": [
    "## Step 7: Convert `.py` back to notebooks (optional)\n",
    "\n",
    "To convert `.py` files back to `.ipynb` after pulling updates:"
   ]
  },
  {
   "cell_type": "code",
   "execution_count": null,
   "id": "b0ec28da",
   "metadata": {},
   "outputs": [],
   "source": [
    "!jupytext --to notebook Interacting-with-GCS.py --output Interacting-with-GCS.ipynb"
   ]
  },
  {
   "cell_type": "markdown",
   "id": "4fd23e6a",
   "metadata": {},
   "source": [
    ":::::::::::::::::::::::::::::::::::::::: challenge\n",
    "\n",
    "### Challenge: GitHub PAT Workflow\n",
    "\n",
    "- Why might you prefer using a PAT with HTTPS instead of SSH keys in Vertex AI Workbench?  \n",
    "- What are the benefits of converting `.ipynb` files to `.py` before committing to a shared repo?  \n",
    "\n",
    ":::::::::::::::: solution\n",
    "\n",
    "- PATs with HTTPS are easier to set up in temporary environments where SSH configs don’t persist.  \n",
    "- Converting notebooks to `.py` results in cleaner diffs, easier code review, and smaller repos without stored outputs/metadata.  \n",
    "\n",
    ":::::::::::::::::::::::::\n",
    "\n",
    "::::::::::::::::::::::::::::::::::::::::::::::::\n",
    "\n",
    "::::::::::::::::::::::::::::::::::::: keypoints \n",
    "\n",
    "- Use a GitHub PAT for HTTPS-based authentication in Vertex AI Workbench notebooks.  \n",
    "- Securely enter sensitive information in notebooks using `getpass`.  \n",
    "- Converting `.ipynb` files to `.py` files helps with cleaner version control.  \n",
    "- Adding `.ipynb` files to `.gitignore` keeps your repository organized.  \n",
    "\n",
    "::::::::::::::::::::::::::::::::::::::::::::::::"
   ]
  }
 ],
 "metadata": {},
 "nbformat": 4,
 "nbformat_minor": 5
}
